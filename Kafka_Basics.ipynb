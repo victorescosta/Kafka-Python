{
  "nbformat": 4,
  "nbformat_minor": 0,
  "metadata": {
    "colab": {
      "name": "Kafka-Basics.ipynb",
      "provenance": [],
      "authorship_tag": "ABX9TyN1UhWic2zP67OakhOS38A9",
      "include_colab_link": true
    },
    "kernelspec": {
      "name": "python3",
      "display_name": "Python 3"
    },
    "language_info": {
      "name": "python"
    }
  },
  "cells": [
    {
      "cell_type": "markdown",
      "metadata": {
        "id": "view-in-github",
        "colab_type": "text"
      },
      "source": [
        "<a href=\"https://colab.research.google.com/github/victorescosta/Kafka-Python/blob/main/Kafka_Basics.ipynb\" target=\"_parent\"><img src=\"https://colab.research.google.com/assets/colab-badge.svg\" alt=\"Open In Colab\"/></a>"
      ]
    },
    {
      "cell_type": "code",
      "execution_count": null,
      "metadata": {
        "id": "kPlaEpRhmB3_"
      },
      "outputs": [],
      "source": [
        "!pip install kafka-python\n",
        "#install pyspark and related"
      ]
    },
    {
      "cell_type": "code",
      "source": [
        "#you need java jdk and its dependecies to run kafka properly"
      ],
      "metadata": {
        "id": "EF7I3PpH5t-2"
      },
      "execution_count": null,
      "outputs": []
    },
    {
      "cell_type": "code",
      "source": [
        "#start zookeeper and its configs in a isolated terminal - always in /bin\n",
        "./bin/zookeeper-server-start.sh ../config/zookeeper.properties "
      ],
      "metadata": {
        "id": "WsEhDGuV0Tge"
      },
      "execution_count": null,
      "outputs": []
    },
    {
      "cell_type": "code",
      "source": [
        "#run kafka server isolated terminal\n",
        "./kafka-server-start.sh ../config/server.properties"
      ],
      "metadata": {
        "id": "TVFoyl4m01Bp"
      },
      "execution_count": null,
      "outputs": []
    },
    {
      "cell_type": "code",
      "source": [
        "#creating a kafka topic\n",
        "./kafka-topics.sh --create-topic Hello-World --bootstrap-server localhost:9092"
      ],
      "metadata": {
        "id": "kEWanJD02N-5"
      },
      "execution_count": null,
      "outputs": []
    },
    {
      "cell_type": "code",
      "source": [
        "#writing a message in a topic as a producer. you can create a new topic if you insist\n",
        "./kafka-console-producer.sh --topic Hello-World --bootstrap-server localhost:9092"
      ],
      "metadata": {
        "id": "h_ZCuGC030bZ"
      },
      "execution_count": null,
      "outputs": []
    },
    {
      "cell_type": "code",
      "source": [
        "#read a message in a topic as a consumer\n",
        "./kafka-console-consumer.sh --topic Hello-World --from-beginning --bootstrap-server localhost:9092"
      ],
      "metadata": {
        "id": "EEMg9Ybr3-Rc"
      },
      "execution_count": null,
      "outputs": []
    },
    {
      "cell_type": "code",
      "source": [
        "#see topics info\n",
        "./kafka-topics.sh --bootstrap-server localhost:9092 --list \n",
        "\n",
        "#describing it\n",
        "./kafka-topics.sh --describe --topic Hello-World --bootstrap-server localhost:9092"
      ],
      "metadata": {
        "id": "O5Mr1srm5_PB"
      },
      "execution_count": null,
      "outputs": []
    },
    {
      "cell_type": "code",
      "source": [
        "#creating topics\n",
        "./kafka-topics.sh --bootstrap-server 127.0.0.1:9092 --topic newtopic --create --partitions 3 --replication-factor 1"
      ],
      "metadata": {
        "id": "sDBDz9DV87Ss"
      },
      "execution_count": null,
      "outputs": []
    },
    {
      "cell_type": "code",
      "source": [
        "#alter partitions. if any error message shows, it means that it worked\n",
        "./kafka-topics.sh --topic newtopic --bootstrap-server localhost:9092 --alter --partitions 4"
      ],
      "metadata": {
        "id": "D9Kk8cZB_ODR"
      },
      "execution_count": null,
      "outputs": []
    },
    {
      "cell_type": "code",
      "source": [
        "#delete a topic\n",
        "./kafka-topics.sh --delete --topic Hello-World --bootstrap-server localhost:9092"
      ],
      "metadata": {
        "id": "0CLaWzyyAGoo"
      },
      "execution_count": null,
      "outputs": []
    },
    {
      "cell_type": "code",
      "source": [
        "#consuming specific messages (by partitions and offset)\n",
        "./kafka-console-consumer.sh --bootstrap-server 127.0.0.1:9092 --topic mymessages --partition 0 --offset 2 --max-messages 1"
      ],
      "metadata": {
        "id": "QIBQ9mOQDwnd"
      },
      "execution_count": null,
      "outputs": []
    },
    {
      "cell_type": "code",
      "source": [
        "#starting consumer groups\n",
        "./kafka-console-consumer.sh --bootstrap-server 127.0.0.1:9092 --topic mymessages --group consumidores\n",
        "\n",
        "#list them\n",
        "./kafka-consumer-groups.sh --bootstrap-server localhost:9092 --list\n",
        "\n",
        "#describe any of them\n",
        "./kafka-consumer-groups.sh --bootstrap-server localhost:9092 --describe --group consumidores"
      ],
      "metadata": {
        "id": "FSDa12rheJLB"
      },
      "execution_count": null,
      "outputs": []
    },
    {
      "cell_type": "code",
      "source": [
        "#pick not readed messages from a consumer group. you need first create messages without the consumer group reading it.\n",
        "./kafka-console-consumer.sh --bootstrap-server 127.0.0.1:9092 --topic mymessages --group consumidores --from-beginning"
      ],
      "metadata": {
        "id": "9-a421iMh2yn"
      },
      "execution_count": null,
      "outputs": []
    },
    {
      "cell_type": "code",
      "source": [
        "#reset offset. you need close the consumer and producers first\n",
        "./kafka-consumer-groups.sh --bootstrap-server localhost:9092 --group consumidores --topic mymessages --reset-offsets --to-earliest --execute\n",
        "./kafka-console-consumer.sh --bootstrap-server 127.0.0.1:9092 --topic mymessages --group consumidores"
      ],
      "metadata": {
        "id": "H-y2fstmihTi"
      },
      "execution_count": null,
      "outputs": []
    },
    {
      "cell_type": "code",
      "source": [
        "#=======>>> creating a kafka-cluster\n",
        "\n",
        "#first you need to stop any zookeeper service already running, and also a kafka instance\n",
        "./kafka-server-stop.sh\n",
        "./zookeeper-server-stop.sh\n",
        "\n",
        "#delete kafka-logs and zookeeper-logs. you need to go to tmp dir\n",
        "rm -r kafka*\n",
        "rm -r zookeeper/\n",
        "\n",
        "#copy config files. inside kafka/confg dir\n",
        "cp server.properties server.properties0\n",
        "cp server.properties server.properties1\n",
        "\n",
        "#after that, edit it. you need to edit broker.id (1 == properties1 and 2 == properties2 in line 21), \n",
        "#port (uncomment line 31. change to 9093 if properties1), and log (log0, line 60 in kafka_2.13-3.1.0).\n",
        "gedit server.properties0\n"
      ],
      "metadata": {
        "id": "jTOBn-XgkQB5"
      },
      "execution_count": null,
      "outputs": []
    },
    {
      "cell_type": "code",
      "source": [
        "#restart zookeeper server\n",
        "./bin/zookeeper-server-start.sh ../config/zookeeper.properties \n",
        "\n",
        "#start kafka instances in each separated terminal\n",
        "./kafka-server-start.sh ../config/server.properties0\n",
        "./kafka-server-start.sh ../config/server.properties1\n",
        "./kafka-server-start.sh ../config/server.properties2\n",
        "\n",
        "#How to check if it worked? Ask for zookeeper\n",
        "./zookeeper-shell.sh localhost:2181\n",
        "#in zookeeper shell\n",
        "ls /brokers/ids\n",
        "get /brokers/ids/0"
      ],
      "metadata": {
        "id": "SpiEj7TrpiSN"
      },
      "execution_count": null,
      "outputs": []
    },
    {
      "cell_type": "code",
      "source": [
        "#read kafka-logs. you must enter in kafka-log dir (tmp)\n",
        "/kafka/bin/kafka-dump-log.sh --files 00000000000000000000.log"
      ],
      "metadata": {
        "id": "wdApaJ6Bw4XK"
      },
      "execution_count": null,
      "outputs": []
    },
    {
      "cell_type": "code",
      "source": [
        "#compressing data in topic and producer level\n",
        "./kafka-topics.sh --bootstrap-server 127.0.0.1:9092 --topic compress --create --partitions 3 --config compression.type=gzip\n",
        "\n",
        "#writing compressed messages\n",
        "./kafka-console-producer.sh --bootstrap-server 127.0.0.1:9092 --topic compress --compression-codec gzip\n"
      ],
      "metadata": {
        "id": "YixRVIRzHLw5"
      },
      "execution_count": null,
      "outputs": []
    },
    {
      "cell_type": "code",
      "source": [
        "#Understanding Kafka API. You Need Pip, Jupyter and also Kafka-Python lib installed in your desktop/laptop\n",
        "sudo apt install python3-pip\n",
        "sudo -H pip install jupyter\n",
        "sudo pip install kafka-python\n",
        "\n",
        "#initialize jupyter notebook\n",
        "jupyter notebook\n"
      ],
      "metadata": {
        "id": "iPDeCbrgNX4s"
      },
      "execution_count": null,
      "outputs": []
    },
    {
      "cell_type": "code",
      "source": [
        "#creating a consumer and a producer in python\n"
      ],
      "metadata": {
        "id": "6B7Tr6-RoZai"
      },
      "execution_count": null,
      "outputs": []
    },
    {
      "cell_type": "markdown",
      "source": [
        "**Producer** - SEPARATED NOTEBOOK"
      ],
      "metadata": {
        "id": "WgJeMiWwo0my"
      }
    },
    {
      "cell_type": "code",
      "source": [
        "#importing dependencies and setting up producer with its bootstrap-server\n",
        "from kafka import KafkaProducer as kp\n",
        "import random\n",
        "producer = kp(bootstrap_servers=\"127.0.0.1:9092\")"
      ],
      "metadata": {
        "id": "SDvxUVuno55g"
      },
      "execution_count": null,
      "outputs": []
    },
    {
      "cell_type": "code",
      "source": [
        "#generating messages\n",
        "for x in range(10):\n",
        "  n = random.random()\n",
        "  producer.send(\"mymessages\", key=b\"Key %d\" % x, value=b\"TestMessage %f \" % n)"
      ],
      "metadata": {
        "id": "oqJ4dNT1pKlw"
      },
      "execution_count": null,
      "outputs": []
    },
    {
      "cell_type": "markdown",
      "source": [
        "**Consumer** - SEPARATED NOTEBOOK"
      ],
      "metadata": {
        "id": "hTO2RwVoq76e"
      }
    },
    {
      "cell_type": "code",
      "source": [
        "#importing dependencies and setting up consumer with its bootstrap-server\n",
        "from kafka import KafkaConsumer as kc\n",
        "consumer = kc(\"mymessages\", bootstrap_servers=\"127.0.0.1:9092\",\n",
        "              consumer_timeout_ms=1000, group_id=\"consumers\")"
      ],
      "metadata": {
        "id": "VPqS9Se4q_Fy"
      },
      "execution_count": null,
      "outputs": []
    },
    {
      "cell_type": "code",
      "source": [
        "#reading messages\n",
        "for mymessages in consumer:\n",
        "  print(\"Topic: \", mymessages.topic)\n",
        "  print(\"Partition: \", mymessages.partition)\n",
        "  print(\"Key: \", mymessages.key)\n",
        "  print(\"Offset: \", mymessages.offset)\n",
        "  print(\"Message: \", mymessages.value)\n",
        "  print(\"-----------------------------\")"
      ],
      "metadata": {
        "id": "kl82NJ_3s-LJ"
      },
      "execution_count": null,
      "outputs": []
    },
    {
      "cell_type": "code",
      "source": [
        "#you can also testing it in a kafka shell. first open a kafka console consumer, and after that, try to send messages to it, and also check the jupyter consumer\n",
        "./kafka-console-consumer.sh --bootstrap-server 127.0.0.1:9092 --topic mymessages --group consumers\n"
      ],
      "metadata": {
        "id": "QimAU5qwvfs3"
      },
      "execution_count": null,
      "outputs": []
    },
    {
      "cell_type": "markdown",
      "source": [
        "**Real App - You need to run a Kafka-Cluster first (first steps of this tutorial)**"
      ],
      "metadata": {
        "id": "zYy_vEMg8DsE"
      }
    },
    {
      "cell_type": "code",
      "source": [
        "#installing Apache WebServer\n",
        "sudo apt install apache2\n",
        "\n",
        "#check if it will worked\n",
        "sudo systemctl status apache2\n",
        "\n",
        "#go to apache dir\n",
        "cd /var/log/apache2/\n",
        "ls\n",
        "\n",
        "#in your webbrowser (mine is Mozilla)\n",
        "http:localhost\n",
        "\n",
        "#check log file\n",
        "cat access.log\n"
      ],
      "metadata": {
        "id": "Eev7WEIU8PuU"
      },
      "execution_count": null,
      "outputs": []
    },
    {
      "cell_type": "code",
      "source": [
        "#create an apache log file in kafka(bin dir). you need 3 kafka instances for 3 replication factor\n",
        "./kafka-topics.sh --bootstrap-server 127.0.0.1:9092 --topic apachelog --create --partitions 3 --replication-factor 3 "
      ],
      "metadata": {
        "id": "M8-PPNc2_FHm"
      },
      "execution_count": null,
      "outputs": []
    },
    {
      "cell_type": "code",
      "source": [
        "#monitoring kafka console consumer\n",
        "./kafka-console-consumer.sh --bootstrap-server 127.0.0.1:9092 --topic apachelog"
      ],
      "metadata": {
        "id": "c45z0fR1HSCy"
      },
      "execution_count": null,
      "outputs": []
    },
    {
      "cell_type": "code",
      "source": [
        "#creating a apacheconnector.py\n",
        "touch apacheconnector.py\n",
        "code -r apacheconnector.py\n",
        "\n",
        "#write this and save it in your apacheconnector.py file\n",
        "import time\n",
        "import re\n",
        "import datetime\n",
        "from kafka import KafkaProducer as kp\n",
        "\n",
        "file = open(r'/var/log/apache2/acess.log', 'r')\n",
        "regexp = 'REGEX'\n",
        "producer = kp(bootstrap_servers=\"127.0.0.1:9092\")\n",
        "\n",
        "while 1:\n",
        "  line = file.readline()\n",
        "  if not line:\n",
        "    time.sleep(5)\n",
        "  else:\n",
        "    x = re.match(regexp, line).groups()\n",
        "    msg = bytes(str(x), encoding='ascii')\n",
        "    producer.send(\"apachelog\", msg)\n",
        "    print(\"Message sent at \", datetime.datetime.now())\n",
        "\n",
        "#save it and run it in your shell enviroment\n",
        "python3 apacheconnector.py\n",
        "\n",
        "#refresh your localhost webpage\n",
        "#have fun :)"
      ],
      "metadata": {
        "id": "wJ26ky3mH5ts"
      },
      "execution_count": null,
      "outputs": []
    },
    {
      "cell_type": "code",
      "source": [
        ""
      ],
      "metadata": {
        "id": "MPP5MH8wReV2"
      },
      "execution_count": null,
      "outputs": []
    },
    {
      "cell_type": "code",
      "source": [
        "from kafka import KafkaConsumer\n",
        "\n",
        "# To consume messages\n",
        "consumer = KafkaConsumer('test-topic',\n",
        "                         group_id='my_group',\n",
        "                         bootstrap_servers=['localhost:9092'],\n",
        "                         auto_commit_enable=True,\n",
        "                         auto_commit_interval_ms=30 * 1000,\n",
        "                         auto_offset_reset='smallest')\n",
        "\n",
        "for message in consumer:\n",
        "  # raw byte string to be decode\n",
        "  message = str(message.value.decode('utf-8'))\n",
        "  logging.info(f\"==>>: {str(message)}\")\n",
        "  print(\"%s: %d: %d: key=%s value=%s\" (message.topic, message.partition,\n",
        "                                       message.offset, message.key,\n",
        "                                       message.value))\n",
        "  "
      ],
      "metadata": {
        "id": "rkJ9g9qd8ors"
      },
      "execution_count": null,
      "outputs": []
    },
    {
      "cell_type": "markdown",
      "source": [
        "*********************\n",
        "Working in Progress\n",
        "*********************"
      ],
      "metadata": {
        "id": "QnOLaWq5dMsd"
      }
    }
  ]
}